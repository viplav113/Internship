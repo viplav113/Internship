{
  "nbformat": 4,
  "nbformat_minor": 0,
  "metadata": {
    "colab": {
      "provenance": []
    },
    "kernelspec": {
      "name": "python3",
      "display_name": "Python 3"
    },
    "language_info": {
      "name": "python"
    }
  },
  "cells": [
    {
      "cell_type": "code",
      "source": [
        "import pandas as pd\n",
        "import numpy as np\n",
        "import matplotlib.pyplot as plt\n",
        "from sklearn import tree\n",
        "from sklearn.model_selection import train_test_split\n",
        "from sklearn.tree import DecisionTreeRegressor\n"
      ],
      "metadata": {
        "id": "Jkg0VI8nRJMC"
      },
      "execution_count": 4,
      "outputs": []
    },
    {
      "cell_type": "code",
      "source": [
        "data1 = pd.read_csv(\"/content/applicant.csv\")\n",
        "data2 = pd.read_csv(\"/content/loan.csv\")"
      ],
      "metadata": {
        "id": "wRRC2xWeRZEn"
      },
      "execution_count": 5,
      "outputs": []
    },
    {
      "cell_type": "markdown",
      "source": [
        "Removing Unwanted columns."
      ],
      "metadata": {
        "id": "MQD8sb-ASr8X"
      }
    },
    {
      "cell_type": "code",
      "source": [
        "\n",
        "data1.drop('Balance_in_existing_bank_account_(lower_limit_of_bucket)', axis = 1, inplace = True)\n",
        "data1.drop('Balance_in_existing_bank_account_(upper_limit_of_bucket)', axis = 1, inplace = True)"
      ],
      "metadata": {
        "id": "e0Rja8TgShfx"
      },
      "execution_count": 6,
      "outputs": []
    },
    {
      "cell_type": "code",
      "source": [
        "data2.drop('Other_EMI_plans', axis = 1, inplace = True)"
      ],
      "metadata": {
        "id": "u-PfKFE-Sxvn"
      },
      "execution_count": 7,
      "outputs": []
    },
    {
      "cell_type": "markdown",
      "source": [
        "Removing Null values"
      ],
      "metadata": {
        "id": "CMeqWzqjS8Ij"
      }
    },
    {
      "cell_type": "code",
      "source": [
        "data1 = data1[~data1.Telephone.isnull()].copy()\n",
        "data1 = data1[~data1.Has_been_employed_for_at_least.isnull()].copy()\n",
        "data1 = data1[~data1.Has_been_employed_for_at_most.isnull()].copy()\n",
        "data1 = data1[~data1.Savings_account_balance.isnull()].copy()\n",
        "\n",
        "data1.isnull().sum()"
      ],
      "metadata": {
        "colab": {
          "base_uri": "https://localhost:8080/"
        },
        "id": "hSkczImkS2lN",
        "outputId": "7949e887-8eba-4b52-f8e6-b27b20be05b6"
      },
      "execution_count": 8,
      "outputs": [
        {
          "output_type": "execute_result",
          "data": {
            "text/plain": [
              "applicant_id                      0\n",
              "Primary_applicant_age_in_years    0\n",
              "Gender                            0\n",
              "Marital_status                    0\n",
              "Number_of_dependents              0\n",
              "Housing                           0\n",
              "Years_at_current_residence        0\n",
              "Employment_status                 0\n",
              "Has_been_employed_for_at_least    0\n",
              "Has_been_employed_for_at_most     0\n",
              "Telephone                         0\n",
              "Foreign_worker                    0\n",
              "Savings_account_balance           0\n",
              "dtype: int64"
            ]
          },
          "metadata": {},
          "execution_count": 8
        }
      ]
    },
    {
      "cell_type": "code",
      "source": [
        "data2 = data2[~data2.Property.isnull()].copy()\n",
        "data2 = data2[~data2.Purpose.isnull()].copy()\n",
        "\n",
        "data2.isnull().sum()"
      ],
      "metadata": {
        "colab": {
          "base_uri": "https://localhost:8080/"
        },
        "id": "2Xjtc8rdS__K",
        "outputId": "c038654d-152b-48b6-8739-3b755c26f7a0"
      },
      "execution_count": 9,
      "outputs": [
        {
          "output_type": "execute_result",
          "data": {
            "text/plain": [
              "loan_application_id                            0\n",
              "applicant_id                                   0\n",
              "Months_loan_taken_for                          0\n",
              "Purpose                                        0\n",
              "Principal_loan_amount                          0\n",
              "EMI_rate_in_percentage_of_disposable_income    0\n",
              "Property                                       0\n",
              "Has_coapplicant                                0\n",
              "Has_guarantor                                  0\n",
              "Number_of_existing_loans_at_this_bank          0\n",
              "Loan_history                                   0\n",
              "high_risk_applicant                            0\n",
              "dtype: int64"
            ]
          },
          "metadata": {},
          "execution_count": 9
        }
      ]
    },
    {
      "cell_type": "code",
      "source": [
        "data2.columns"
      ],
      "metadata": {
        "colab": {
          "base_uri": "https://localhost:8080/"
        },
        "id": "CMFXc7EpTucm",
        "outputId": "3ea8e1bf-cbd0-4038-fe86-7b8143c23879"
      },
      "execution_count": 13,
      "outputs": [
        {
          "output_type": "execute_result",
          "data": {
            "text/plain": [
              "Index(['loan_application_id', 'applicant_id', 'Months_loan_taken_for',\n",
              "       'Purpose', 'Principal_loan_amount',\n",
              "       'EMI_rate_in_percentage_of_disposable_income', 'Property',\n",
              "       'Has_coapplicant', 'Has_guarantor',\n",
              "       'Number_of_existing_loans_at_this_bank', 'Loan_history',\n",
              "       'high_risk_applicant'],\n",
              "      dtype='object')"
            ]
          },
          "metadata": {},
          "execution_count": 13
        }
      ]
    },
    {
      "cell_type": "code",
      "source": [
        "features = ['loan_application_id', 'applicant_id', 'Months_loan_taken_for',\n",
        "       'Purpose', 'Principal_loan_amount',\n",
        "       'EMI_rate_in_percentage_of_disposable_income', 'Property',\n",
        "       'Has_coapplicant', 'Has_guarantor',\n",
        "       'Number_of_existing_loans_at_this_bank', 'Loan_history',\n",
        "       'high_risk_applicant']\n",
        "X = data2.loc[:, features]\n",
        "y = data2.loc[:, ['high_risk_applicant']]"
      ],
      "metadata": {
        "id": "fwLf_hGkTExq"
      },
      "execution_count": 14,
      "outputs": []
    },
    {
      "cell_type": "code",
      "source": [
        "X_train, X_test, y_train, y_test = train_test_split(X, y, random_state=0, train_size = .75)"
      ],
      "metadata": {
        "id": "itIWpentTmXe"
      },
      "execution_count": 15,
      "outputs": []
    },
    {
      "cell_type": "code",
      "source": [
        "X = pd.get_dummies(X)\n",
        "train=pd.get_dummies(y_train)\n",
        "test=pd.get_dummies(y_train)"
      ],
      "metadata": {
        "id": "e2ekeZuHUjRF"
      },
      "execution_count": 16,
      "outputs": []
    },
    {
      "cell_type": "code",
      "source": [],
      "metadata": {
        "colab": {
          "base_uri": "https://localhost:8080/",
          "height": 226
        },
        "id": "sAOwsW1SVnXi",
        "outputId": "bdf74df5-74ba-42c7-8c0e-41da384b7293"
      },
      "execution_count": 20,
      "outputs": [
        {
          "output_type": "error",
          "ename": "TypeError",
          "evalue": "ignored",
          "traceback": [
            "\u001b[0;31m---------------------------------------------------------------------------\u001b[0m",
            "\u001b[0;31mTypeError\u001b[0m                                 Traceback (most recent call last)",
            "\u001b[0;32m<ipython-input-20-408282a84738>\u001b[0m in \u001b[0;36m<module>\u001b[0;34m\u001b[0m\n\u001b[1;32m      2\u001b[0m \u001b[0;32mfrom\u001b[0m \u001b[0msklearn\u001b[0m\u001b[0;34m.\u001b[0m\u001b[0mmetrics\u001b[0m \u001b[0;32mimport\u001b[0m \u001b[0maccuracy_score\u001b[0m\u001b[0;34m\u001b[0m\u001b[0;34m\u001b[0m\u001b[0m\n\u001b[1;32m      3\u001b[0m \u001b[0mmodel\u001b[0m \u001b[0;34m=\u001b[0m \u001b[0mLogisticRegression\u001b[0m\u001b[0;34m(\u001b[0m\u001b[0;34m)\u001b[0m\u001b[0;34m\u001b[0m\u001b[0;34m\u001b[0m\u001b[0m\n\u001b[0;32m----> 4\u001b[0;31m \u001b[0mmodel\u001b[0m\u001b[0;34m.\u001b[0m\u001b[0mfit\u001b[0m\u001b[0;34m(\u001b[0m\u001b[0my_train\u001b[0m\u001b[0;34m)\u001b[0m\u001b[0;34m\u001b[0m\u001b[0;34m\u001b[0m\u001b[0m\n\u001b[0m\u001b[1;32m      5\u001b[0m \u001b[0mLogisticRegression\u001b[0m\u001b[0;34m(\u001b[0m\u001b[0;34m)\u001b[0m\u001b[0;34m\u001b[0m\u001b[0;34m\u001b[0m\u001b[0m\n",
            "\u001b[0;31mTypeError\u001b[0m: fit() missing 1 required positional argument: 'y'"
          ]
        }
      ]
    },
    {
      "cell_type": "code",
      "source": [],
      "metadata": {
        "id": "3Stj1encVwQm"
      },
      "execution_count": null,
      "outputs": []
    }
  ]
}